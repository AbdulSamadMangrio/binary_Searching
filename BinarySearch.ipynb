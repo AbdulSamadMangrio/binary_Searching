{
 "cells": [
  {
   "cell_type": "code",
   "execution_count": 6,
   "metadata": {},
   "outputs": [
    {
     "name": "stdout",
     "output_type": "stream",
     "text": [
      "8 is found on this data [4, 5, 6, 7, 8, 9, 88, 99, 109] in index 4\n"
     ]
    }
   ],
   "source": [
    "data = [4, 5, 6, 7, 8, 9, 88, 99, 109]\n",
    "def binary_search(data, e):\n",
    "    r = 0\n",
    "    l = len(data) -1\n",
    "    while r <= l:\n",
    "        m = (r+l) // 2\n",
    "        if data[m] == e:\n",
    "            return m\n",
    "        elif e > data[m]:\n",
    "            r = m + 1\n",
    "        else:\n",
    "            l = m - 1\n",
    "    return -1\n",
    "\n",
    "e = 8\n",
    "x = binary_search(data, e)\n",
    "if x != -1:\n",
    "    print(f\"{e} is found on this data {data} in index {x}\")\n",
    "else:\n",
    "    print(f\"{e} is not found on this data {data} \")\n",
    "\n"
   ]
  },
  {
   "cell_type": "code",
   "execution_count": 2,
   "metadata": {},
   "outputs": [
    {
     "name": "stdout",
     "output_type": "stream",
     "text": [
      "77 is found on this data [11, 22, 33, 44, 55, 66, 77, 88, 99, 109, 119, 129, 139] in index 6\n"
     ]
    }
   ],
   "source": [
    "data = [11, 22, 33, 44, 55, 66, 77, 88, 99, 109, 119, 129, 139]\n",
    "\n",
    "def binarysearch(data, e):\n",
    "    r = 0\n",
    "    l = len(data) -1\n",
    "    while r <= l:\n",
    "        m = (r+l) // 2\n",
    "        if data[m] == e:\n",
    "            return m\n",
    "        elif data[m] < e:\n",
    "            r = m + 1\n",
    "        else:\n",
    "            l = m - 1\n",
    "    return -1\n",
    "\n",
    "e = 77\n",
    "x = binarysearch(data, e)\n",
    "if x != -1:\n",
    "    print(f\"{e} is found on this data {data} in index {x}\")\n",
    "else:\n",
    "    print(f\"{e} is not found on this data {data} \")"
   ]
  },
  {
   "cell_type": "code",
   "execution_count": 11,
   "metadata": {},
   "outputs": [
    {
     "name": "stdout",
     "output_type": "stream",
     "text": [
      "Babar is found on this data ['Abdula_Shafiq', 'Babar', 'FaheemAshraf', 'Iftikhar', 'Nassem', 'Rizwan', 'Shahdab'] at index 1.\n"
     ]
    }
   ],
   "source": [
    "Data = [\"Abdula_Shafiq\", \"Babar\", \"FaheemAshraf\", \"Iftikhar\", \"Nassem\", \"Rizwan\", \"Shahdab\"]\n",
    "\n",
    "def binary_search(Data, e):\n",
    "    R = 0\n",
    "    L = len(Data) - 1\n",
    "    while R <= L:\n",
    "        M = (R + L) // 2\n",
    "        if Data[M] == e:\n",
    "            return M\n",
    "        elif Data[M] > e:\n",
    "            L = M - 1\n",
    "        else:\n",
    "            R = M + 1\n",
    "    return -1\n",
    "\n",
    "e = \"Babar\"\n",
    "x = binary_search(Data, e)\n",
    "if x != -1:\n",
    "    print(f\"{e} is found on this data {Data} at index {x}.\")\n",
    "else:\n",
    "    print(f\"{e} is not found on this data {Data}.\")\n"
   ]
  },
  {
   "cell_type": "code",
   "execution_count": 12,
   "metadata": {},
   "outputs": [
    {
     "name": "stdout",
     "output_type": "stream",
     "text": [
      "Frank found at index 5\n"
     ]
    }
   ],
   "source": [
    "def binary_search(names, target):\n",
    "    low, high = 0, len(names) - 1\n",
    "\n",
    "    while low <= high:\n",
    "        mid = (low + high) // 2\n",
    "        mid_name = names[mid]\n",
    "\n",
    "        if mid_name == target:\n",
    "            return mid  # Found the target at index mid\n",
    "        elif mid_name < target:\n",
    "            low = mid + 1  # Disregard the left half\n",
    "        else:\n",
    "            high = mid - 1  # Disregard the right half\n",
    "\n",
    "    return -1  # Target not found in the list\n",
    "\n",
    "# Example usage:\n",
    "names = ['Alice', 'Bob', 'Charlie', 'David', 'Emma', 'Frank', 'Grace', 'Helen']\n",
    "\n",
    "target_name = 'Frank'\n",
    "result = binary_search(names, target_name)\n",
    "\n",
    "if result != -1:\n",
    "    print(f'{target_name} found at index {result}')\n",
    "else:\n",
    "    print(f'{target_name} not found in the list')\n"
   ]
  }
 ],
 "metadata": {
  "kernelspec": {
   "display_name": "Python 3",
   "language": "python",
   "name": "python3"
  },
  "language_info": {
   "codemirror_mode": {
    "name": "ipython",
    "version": 3
   },
   "file_extension": ".py",
   "mimetype": "text/x-python",
   "name": "python",
   "nbconvert_exporter": "python",
   "pygments_lexer": "ipython3",
   "version": "3.12.2"
  }
 },
 "nbformat": 4,
 "nbformat_minor": 2
}
